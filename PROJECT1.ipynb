{
  "cells": [
    {
      "cell_type": "markdown",
      "source": [
        "PROJECT ON HOUSE PRICE PREDICTION"
      ],
      "metadata": {
        "id": "g9shTU7XitVL"
      }
    },
    {
      "cell_type": "markdown",
      "source": [
        "CASE1:- USING SQFT_LIVING AS A PARAMETER\n"
      ],
      "metadata": {
        "id": "rbfvQj7Pnrxk"
      }
    },
    {
      "cell_type": "code",
      "execution_count": null,
      "metadata": {
        "colab": {
          "base_uri": "https://localhost:8080/",
          "height": 360
        },
        "id": "s0t3u8g_MWUT",
        "outputId": "923fe970-d581-4137-f97d-5d0db3d97b61"
      },
      "outputs": [
        {
          "output_type": "display_data",
          "data": {
            "text/plain": [
              "<Figure size 432x288 with 1 Axes>"
            ],
            "image/png": "[encoded data removed]"
          },
          "metadata": {
            "needs_background": "light"
          }
        },
        {
          "output_type": "stream",
          "name": "stdout",
          "text": [
            "Coefficients:  [[281.83375216]]\n",
            "Intercept:  [-45850.76735561]\n",
            "Mean absolute error:  8.01952622105321\n",
            "Residual sum of squares (MSE):  3093754.956167733\n"
          ]
        }
      ],
      "source": [
        "### to predict the house price using different parameters.\n",
        "import matplotlib.pyplot as plt\n",
        "from sklearn import linear_model\n",
        "import pandas as pd\n",
        "import numpy as np\n",
        "\n",
        "file_name='https://cf-courses-data.s3.us.cloud-object-storage.appdomain.cloud/IBMDeveloperSkillsNetwork-DA0101EN-SkillsNetwork/labs/FinalModule_Coursera/data/kc_house_data_NaN.csv'\n",
        "df=pd.read_csv(file_name)\n",
        "\n",
        "\n",
        "\n",
        "cdf = df[['id','date','price','bedrooms','bathrooms','sqft_living','sqft_lot','floors','waterfront','view','condition','grade','sqft_above','sqft_basement','yr_built','yr_renovated','zipcode','lat','long','sqft_living15','sqft_lot15']]\n",
        "cdf.head()      #takes all the datasets present in the table  ie 21613 data sets with 22 columns.\n",
        "\n",
        "\n",
        "\n",
        "from sklearn.model_selection import train_test_split\n",
        "X_train,X_test,y_train,y_test = train_test_split(cdf,cdf,test_size=.2,random_state=4);\n",
        "\n",
        "\n",
        "###CASE1:- predicting price using sqft_living and checking its accuracy\n",
        "\n",
        "regr = linear_model.LinearRegression()\n",
        "train_x = np.asanyarray(X_train[['sqft_living']])\n",
        "train_y = np.asanyarray(X_train[['price']])\n",
        "regr.fit(train_x,train_y)\n",
        "\n",
        "\n",
        "plt.scatter(X_train.sqft_living,X_train.price,color='blue')\n",
        "plt.plot(train_x,regr.coef_[0][0]*train_x+regr.intercept_[0],'-r')\n",
        "plt.xlabel('sqft_living')\n",
        "plt.ylabel('price')\n",
        "plt.show()        ## graph of price vs sqft_living\n",
        "\n",
        "print('Coefficients: ',regr.coef_)\n",
        "print('Intercept: ',regr.intercept_)\n",
        "\n",
        "test_x = np.asanyarray(X_test[['sqft_living']])\n",
        "test_y = np.asanyarray(X_test[['price']])\n",
        "test_y_ = regr.predict(test_x)    #represents y^\n",
        "mae = np.mean(np.absolute(test_y_ - test_y)) \n",
        "mae_ = mae/21613\n",
        "mse = np.mean((test_y-test_y_)**2)\n",
        "mse_=mse/21613\n",
        "print(\"Mean absolute error: \",mae_)\n",
        "print(\"Residual sum of squares (MSE): \",mse_)"
      ]
    },
    {
      "cell_type": "markdown",
      "source": [
        "CASE2:- USING LONG AS A PARAMETER"
      ],
      "metadata": {
        "id": "L-PpgmVdV0FY"
      }
    },
    {
      "cell_type": "code",
      "execution_count": null,
      "metadata": {
        "colab": {
          "base_uri": "https://localhost:8080/",
          "height": 359
        },
        "id": "CKe3z488MWUX",
        "outputId": "b45bd1bc-0993-4cc7-8861-500770d0a374"
      },
      "outputs": [
        {
          "output_type": "display_data",
          "data": {
            "text/plain": [
              "<Figure size 432x288 with 1 Axes>"
            ],
            "image/png": "[encoded data removed]"
          },
          "metadata": {
            "needs_background": "light"
          }
        },
        {
          "output_type": "stream",
          "name": "stdout",
          "text": [
            "Coefficients:  [[54088.18719313]]\n",
            "Intercept:  [7150143.46794982]\n",
            "Mean absolute error:  10.6959858198308\n",
            "Residual sum of squares (MSE):  5980522.963738343\n"
          ]
        }
      ],
      "source": [
        "##CASE2:- predicting price using long and checking its accuracy\n",
        "import matplotlib.pyplot as plt\n",
        "from sklearn import linear_model\n",
        "import pandas as pd\n",
        "import numpy as np\n",
        "\n",
        "file_name='https://cf-courses-data.s3.us.cloud-object-storage.appdomain.cloud/IBMDeveloperSkillsNetwork-DA0101EN-SkillsNetwork/labs/FinalModule_Coursera/data/kc_house_data_NaN.csv'\n",
        "df=pd.read_csv(file_name)\n",
        "\n",
        "\n",
        "\n",
        "cdf = df[['id','date','price','bedrooms','bathrooms','sqft_living','sqft_lot','floors','waterfront','view','condition','grade','sqft_above','sqft_basement','yr_built','yr_renovated','zipcode','lat','long','sqft_living15','sqft_lot15']]\n",
        "cdf.head()      #takes all the datasets present in the table  ie 21613 data sets with 22 columns.\n",
        "\n",
        "\n",
        "\n",
        "from sklearn.model_selection import train_test_split\n",
        "X_train,X_test,y_train,y_test = train_test_split(cdf,cdf,test_size=.2,random_state=4);\n",
        "\n",
        "\n",
        "regr1 = linear_model.LinearRegression()\n",
        "train_x = np.asanyarray(X_train[['long']])\n",
        "train_y = np.asanyarray(X_train[['price']])\n",
        "regr1.fit(train_x,train_y)\n",
        "\n",
        "\n",
        "plt.scatter(X_train.long,X_train.price,color='blue')\n",
        "plt.plot(train_x,regr1.coef_[0][0]*train_x+regr1.intercept_[0],'-r')\n",
        "plt.xlabel('long')\n",
        "plt.ylabel('price')\n",
        "plt.show()        ## graph of price vs bedrooms\n",
        "\n",
        "print('Coefficients: ',regr1.coef_)\n",
        "print('Intercept: ',regr1.intercept_)\n",
        "\n",
        "test_x = np.asanyarray(X_test[['long']])\n",
        "test_y = np.asanyarray(X_test[['price']])\n",
        "test_y_ = regr1.predict(test_x)    #represents y^\n",
        "mae = np.mean(np.absolute(test_y_ - test_y)) \n",
        "mae_ = mae/21613\n",
        "mse = np.mean((test_y-test_y_)**2)\n",
        "mse_=mse/21613\n",
        "print(\"Mean absolute error: \",mae_)\n",
        "print(\"Residual sum of squares (MSE): \",mse_)"
      ]
    },
    {
      "cell_type": "markdown",
      "source": [
        "CASE3:- USING YR_BUILT AS A PARAMETER"
      ],
      "metadata": {
        "id": "bjR6ftJUV9BZ"
      }
    },
    {
      "cell_type": "code",
      "execution_count": null,
      "metadata": {
        "colab": {
          "base_uri": "https://localhost:8080/",
          "height": 360
        },
        "id": "3h59JVJnMWUZ",
        "outputId": "872e552d-ff4e-4a47-a608-34b657a81966"
      },
      "outputs": [
        {
          "output_type": "display_data",
          "data": {
            "text/plain": [
              "<Figure size 432x288 with 1 Axes>"
            ],
            "image/png": "[encoded data removed]"
          },
          "metadata": {
            "needs_background": "light"
          }
        },
        {
          "output_type": "stream",
          "name": "stdout",
          "text": [
            "Coefficients:  [[697.1750466]]\n",
            "Intercept:  [-834300.80646315]\n",
            "Mean absolute error:  10.717044686716456\n",
            "Residual sum of squares (MSE):  5971218.483604367\n"
          ]
        }
      ],
      "source": [
        "##CASE3:- predicting price using yr_built and checking its accuracy\n",
        "import matplotlib.pyplot as plt\n",
        "from sklearn import linear_model\n",
        "import pandas as pd\n",
        "import numpy as np\n",
        "\n",
        "file_name='https://cf-courses-data.s3.us.cloud-object-storage.appdomain.cloud/IBMDeveloperSkillsNetwork-DA0101EN-SkillsNetwork/labs/FinalModule_Coursera/data/kc_house_data_NaN.csv'\n",
        "df=pd.read_csv(file_name)\n",
        "\n",
        "\n",
        "\n",
        "cdf = df[['id','date','price','bedrooms','bathrooms','sqft_living','sqft_lot','floors','waterfront','view','condition','grade','sqft_above','sqft_basement','yr_built','yr_renovated','zipcode','lat','long','sqft_living15','sqft_lot15']]\n",
        "cdf.head()      #takes all the datasets present in the table  ie 21613 data sets with 22 columns.\n",
        "\n",
        "\n",
        "\n",
        "from sklearn.model_selection import train_test_split\n",
        "X_train,X_test,y_train,y_test = train_test_split(cdf,cdf,test_size=.2,random_state=4);\n",
        "\n",
        "\n",
        "regr1 = linear_model.LinearRegression()\n",
        "train_x = np.asanyarray(X_train[['yr_built']])\n",
        "train_y = np.asanyarray(X_train[['price']])\n",
        "regr1.fit(train_x,train_y)\n",
        "\n",
        "\n",
        "plt.scatter(X_train.yr_built,X_train.price,color='blue')\n",
        "plt.plot(train_x,regr1.coef_[0][0]*train_x+regr1.intercept_[0],'-r')\n",
        "plt.xlabel('yr_built')\n",
        "plt.ylabel('price')\n",
        "plt.show()        ## graph of price vs bedrooms\n",
        "\n",
        "print('Coefficients: ',regr1.coef_)\n",
        "print('Intercept: ',regr1.intercept_)\n",
        "\n",
        "test_x = np.asanyarray(X_test[['yr_built']])\n",
        "test_y = np.asanyarray(X_test[['price']])\n",
        "test_y_ = regr1.predict(test_x)    #represents y^\n",
        "mae = np.mean(np.absolute(test_y_ - test_y)) \n",
        "mae_ = mae/21613\n",
        "mse = np.mean((test_y-test_y_)**2)\n",
        "mse_=mse/21613\n",
        "print(\"Mean absolute error: \",mae_)\n",
        "print(\"Residual sum of squares (MSE): \",mse_)"
      ]
    },
    {
      "cell_type": "markdown",
      "source": [
        "CASE4:- USING SQFT_ABOVE AS A PARAMETER"
      ],
      "metadata": {
        "id": "Q_psyA02WCyi"
      }
    },
    {
      "cell_type": "code",
      "execution_count": null,
      "metadata": {
        "colab": {
          "base_uri": "https://localhost:8080/",
          "height": 360
        },
        "id": "ODVyUaEoMWUa",
        "outputId": "d2a9b815-fab4-4790-94b9-facf2374194e"
      },
      "outputs": [
        {
          "output_type": "display_data",
          "data": {
            "text/plain": [
              "<Figure size 432x288 with 1 Axes>"
            ],
            "image/png": "[encoded data removed]"
          },
          "metadata": {
            "needs_background": "light"
          }
        },
        {
          "output_type": "stream",
          "name": "stdout",
          "text": [
            "Coefficients:  [[271.07584553]]\n",
            "Intercept:  [55969.4706309]\n",
            "Mean absolute error:  8.886516225680174\n",
            "Residual sum of squares (MSE):  3861690.58196073\n"
          ]
        }
      ],
      "source": [
        "##CASE4:- predicting price using sqft_above and checking its accuracy\n",
        "import matplotlib.pyplot as plt\n",
        "from sklearn import linear_model\n",
        "import pandas as pd\n",
        "import numpy as np\n",
        "\n",
        "file_name='https://cf-courses-data.s3.us.cloud-object-storage.appdomain.cloud/IBMDeveloperSkillsNetwork-DA0101EN-SkillsNetwork/labs/FinalModule_Coursera/data/kc_house_data_NaN.csv'\n",
        "df=pd.read_csv(file_name)\n",
        "\n",
        "\n",
        "\n",
        "cdf = df[['id','date','price','bedrooms','bathrooms','sqft_living','sqft_lot','floors','waterfront','view','condition','grade','sqft_above','sqft_basement','yr_built','yr_renovated','zipcode','lat','long','sqft_living15','sqft_lot15']]\n",
        "cdf.head()      #takes all the datasets present in the table  ie 21613 data sets with 22 columns.\n",
        "\n",
        "\n",
        "\n",
        "from sklearn.model_selection import train_test_split\n",
        "X_train,X_test,y_train,y_test = train_test_split(cdf,cdf,test_size=.2,random_state=4);\n",
        "\n",
        "\n",
        "regr1 = linear_model.LinearRegression()\n",
        "train_x = np.asanyarray(X_train[['sqft_above']])\n",
        "train_y = np.asanyarray(X_train[['price']])\n",
        "regr1.fit(train_x,train_y)\n",
        "\n",
        "\n",
        "plt.scatter(X_train.sqft_above,X_train.price,color='blue')\n",
        "plt.plot(train_x,regr1.coef_[0][0]*train_x+regr1.intercept_[0],'-r')\n",
        "plt.xlabel('sqft_above')\n",
        "plt.ylabel('price')\n",
        "plt.show()        ## graph of price vs bedrooms\n",
        "\n",
        "print('Coefficients: ',regr1.coef_)\n",
        "print('Intercept: ',regr1.intercept_)\n",
        "\n",
        "test_x = np.asanyarray(X_test[['sqft_above']])\n",
        "test_y = np.asanyarray(X_test[['price']])\n",
        "test_y_ = regr1.predict(test_x)    #represents y^\n",
        "mae = np.mean(np.absolute(test_y_ - test_y)) \n",
        "mae_ = mae/21613\n",
        "mse = np.mean((test_y-test_y_)**2)\n",
        "mse_=mse/21613\n",
        "print(\"Mean absolute error: \",mae_)\n",
        "print(\"Residual sum of squares (MSE): \",mse_)"
      ]
    },
    {
      "cell_type": "markdown",
      "source": [
        "CASE5:- USING SQFT_BASEMENT AS A PARAMETER"
      ],
      "metadata": {
        "id": "6cflLBkgWM7m"
      }
    },
    {
      "cell_type": "code",
      "source": [
        "##CASE5:- predicting price using sqft_basement and checking its accuracy\n",
        "import matplotlib.pyplot as plt\n",
        "from sklearn import linear_model\n",
        "import pandas as pd\n",
        "import numpy as np\n",
        "\n",
        "file_name='https://cf-courses-data.s3.us.cloud-object-storage.appdomain.cloud/IBMDeveloperSkillsNetwork-DA0101EN-SkillsNetwork/labs/FinalModule_Coursera/data/kc_house_data_NaN.csv'\n",
        "df=pd.read_csv(file_name)\n",
        "\n",
        "\n",
        "\n",
        "cdf = df[['id','date','price','bedrooms','bathrooms','sqft_living','sqft_lot','floors','waterfront','view','condition','grade','sqft_above','sqft_basement','yr_built','yr_renovated','zipcode','lat','long','sqft_living15','sqft_lot15']]\n",
        "cdf.head()      #takes all the datasets present in the table  ie 21613 data sets with 22 columns.\n",
        "\n",
        "\n",
        "\n",
        "from sklearn.model_selection import train_test_split\n",
        "X_train,X_test,y_train,y_test = train_test_split(cdf,cdf,test_size=.2,random_state=4);\n",
        "\n",
        "\n",
        "regr1 = linear_model.LinearRegression()\n",
        "train_x = np.asanyarray(X_train[['sqft_basement']])\n",
        "train_y = np.asanyarray(X_train[['price']])\n",
        "regr1.fit(train_x,train_y)\n",
        "\n",
        "\n",
        "plt.scatter(X_train.sqft_basement,X_train.price,color='blue')\n",
        "plt.plot(train_x,regr1.coef_[0][0]*train_x+regr1.intercept_[0],'-r')\n",
        "plt.xlabel('sqft_basement')\n",
        "plt.ylabel('price')\n",
        "plt.show()        ## graph of price vs bedrooms\n",
        "\n",
        "print('Coefficients: ',regr1.coef_)\n",
        "print('Intercept: ',regr1.intercept_)\n",
        "\n",
        "test_x = np.asanyarray(X_test[['sqft_basement']])\n",
        "test_y = np.asanyarray(X_test[['price']])\n",
        "test_y_ = regr1.predict(test_x)    #represents y^\n",
        "mae = np.mean(np.absolute(test_y_ - test_y)) \n",
        "mae_ = mae/21613\n",
        "mse = np.mean((test_y-test_y_)**2)\n",
        "mse_=mse/21613\n",
        "print(\"Mean absolute error: \",mae_)\n",
        "print(\"Residual sum of squares (MSE): \",mse_)"
      ],
      "metadata": {
        "colab": {
          "base_uri": "https://localhost:8080/",
          "height": 360
        },
        "id": "Q16ghMG4NaTi",
        "outputId": "fcacb02e-12fd-4ad6-9024-aac09a750de2"
      },
      "execution_count": null,
      "outputs": [
        {
          "output_type": "display_data",
          "data": {
            "text/plain": [
              "<Figure size 432x288 with 1 Axes>"
            ],
            "image/png": "[encoded data removed]"
          },
          "metadata": {
            "needs_background": "light"
          }
        },
        {
          "output_type": "stream",
          "name": "stdout",
          "text": [
            "Coefficients:  [[273.29121377]]\n",
            "Intercept:  [459646.53758894]\n",
            "Mean absolute error:  10.299508809345143\n",
            "Residual sum of squares (MSE):  5427892.6349292\n"
          ]
        }
      ]
    },
    {
      "cell_type": "markdown",
      "source": [
        "CASE6:- USING SQFT_LIVING15 AS A PARAMETER"
      ],
      "metadata": {
        "id": "1SkVVW3OWVIJ"
      }
    },
    {
      "cell_type": "code",
      "source": [
        "##CASE6:- predicting price using sqft_living15 and checking its accuracy\n",
        "import matplotlib.pyplot as plt\n",
        "from sklearn import linear_model\n",
        "import pandas as pd\n",
        "import numpy as np\n",
        "\n",
        "file_name='https://cf-courses-data.s3.us.cloud-object-storage.appdomain.cloud/IBMDeveloperSkillsNetwork-DA0101EN-SkillsNetwork/labs/FinalModule_Coursera/data/kc_house_data_NaN.csv'\n",
        "df=pd.read_csv(file_name)\n",
        "\n",
        "\n",
        "\n",
        "cdf = df[['id','date','price','bedrooms','bathrooms','sqft_living','sqft_lot','floors','waterfront','view','condition','grade','sqft_above','sqft_basement','yr_built','yr_renovated','zipcode','lat','long','sqft_living15','sqft_lot15']]\n",
        "cdf.head()      #takes all the datasets present in the table  ie 21613 data sets with 22 columns.\n",
        "\n",
        "\n",
        "\n",
        "from sklearn.model_selection import train_test_split\n",
        "X_train,X_test,y_train,y_test = train_test_split(cdf,cdf,test_size=.2,random_state=4);\n",
        "\n",
        "\n",
        "regr1 = linear_model.LinearRegression()\n",
        "train_x = np.asanyarray(X_train[['sqft_living15']])\n",
        "train_y = np.asanyarray(X_train[['price']])\n",
        "regr1.fit(train_x,train_y)\n",
        "\n",
        "\n",
        "plt.scatter(X_train.sqft_living15,X_train.price,color='blue')\n",
        "plt.plot(train_x,regr1.coef_[0][0]*train_x+regr1.intercept_[0],'-r')\n",
        "plt.xlabel('sqft_living15')\n",
        "plt.ylabel('price')\n",
        "plt.show()        ## graph of price vs bedrooms\n",
        "\n",
        "print('Coefficients: ',regr1.coef_)\n",
        "print('Intercept: ',regr1.intercept_)\n",
        "\n",
        "test_x = np.asanyarray(X_test[['sqft_living15']])\n",
        "test_y = np.asanyarray(X_test[['price']])\n",
        "test_y_ = regr1.predict(test_x)    #represents y^\n",
        "mae = np.mean(np.absolute(test_y_ - test_y)) \n",
        "mae_ = mae/21613\n",
        "mse = np.mean((test_y-test_y_)**2)\n",
        "mse_=mse/21613\n",
        "print(\"Mean absolute error: \",mae_)\n",
        "print(\"Residual sum of squares (MSE): \",mse_)"
      ],
      "metadata": {
        "colab": {
          "base_uri": "https://localhost:8080/",
          "height": 360
        },
        "id": "X1wfot1gNurG",
        "outputId": "936d7654-8efd-4e75-88a3-97d15ae7969e"
      },
      "execution_count": null,
      "outputs": [
        {
          "output_type": "display_data",
          "data": {
            "text/plain": [
              "<Figure size 432x288 with 1 Axes>"
            ],
            "image/png": "[encoded data removed]"
          },
          "metadata": {
            "needs_background": "light"
          }
        },
        {
          "output_type": "stream",
          "name": "stdout",
          "text": [
            "Coefficients:  [[313.05813605]]\n",
            "Intercept:  [-81508.13938323]\n",
            "Mean absolute error:  8.50975854024964\n",
            "Residual sum of squares (MSE):  3781123.173817955\n"
          ]
        }
      ]
    },
    {
      "cell_type": "markdown",
      "source": [
        "CASE7:- USING GRADE AS A PARAMETER"
      ],
      "metadata": {
        "id": "xsYDYk3iWnyD"
      }
    },
    {
      "cell_type": "code",
      "source": [
        "##CASE7:- predicting price using grade and checking its accuracy\n",
        "import matplotlib.pyplot as plt\n",
        "from sklearn import linear_model\n",
        "import pandas as pd\n",
        "import numpy as np\n",
        "\n",
        "file_name='https://cf-courses-data.s3.us.cloud-object-storage.appdomain.cloud/IBMDeveloperSkillsNetwork-DA0101EN-SkillsNetwork/labs/FinalModule_Coursera/data/kc_house_data_NaN.csv'\n",
        "df=pd.read_csv(file_name)\n",
        "\n",
        "\n",
        "\n",
        "cdf = df[['id','date','price','bedrooms','bathrooms','sqft_living','sqft_lot','floors','waterfront','view','condition','grade','sqft_above','sqft_basement','yr_built','yr_renovated','zipcode','lat','long','sqft_living15','sqft_lot15']]\n",
        "cdf.head()      #takes all the datasets present in the table  ie 21613 data sets with 22 columns.\n",
        "\n",
        "\n",
        "\n",
        "from sklearn.model_selection import train_test_split\n",
        "X_train,X_test,y_train,y_test = train_test_split(cdf,cdf,test_size=.2,random_state=4);\n",
        "\n",
        "\n",
        "regr1 = linear_model.LinearRegression()\n",
        "train_x = np.asanyarray(X_train[['grade']])\n",
        "train_y = np.asanyarray(X_train[['price']])\n",
        "regr1.fit(train_x,train_y)\n",
        "\n",
        "\n",
        "plt.scatter(X_train.grade,X_train.price,color='blue')\n",
        "plt.plot(train_x,regr1.coef_[0][0]*train_x+regr1.intercept_[0],'-r')\n",
        "plt.xlabel('grade')\n",
        "plt.ylabel('price')\n",
        "plt.show()        ## graph of price vs bedrooms\n",
        "\n",
        "print('Coefficients: ',regr1.coef_)\n",
        "print('Intercept: ',regr1.intercept_)\n",
        "\n",
        "test_x = np.asanyarray(X_test[['grade']])\n",
        "test_y = np.asanyarray(X_test[['price']])\n",
        "test_y_ = regr1.predict(test_x)    #represents y^\n",
        "mae = np.mean(np.absolute(test_y_ - test_y)) \n",
        "mae_ = mae/21613\n",
        "mse = np.mean((test_y-test_y_)**2)\n",
        "mse_=mse/21613\n",
        "print(\"Mean absolute error: \",mae_)\n",
        "print(\"Residual sum of squares (MSE): \",mse_)"
      ],
      "metadata": {
        "colab": {
          "base_uri": "https://localhost:8080/",
          "height": 359
        },
        "id": "GW9ecacxOJVX",
        "outputId": "a99fb27b-7984-48f1-cd16-9a1a0dcade9d"
      },
      "execution_count": null,
      "outputs": [
        {
          "output_type": "display_data",
          "data": {
            "text/plain": [
              "<Figure size 432x288 with 1 Axes>"
            ],
            "image/png": "[encoded data removed]"
          },
          "metadata": {
            "needs_background": "light"
          }
        },
        {
          "output_type": "stream",
          "name": "stdout",
          "text": [
            "Coefficients:  [[209349.23305535]]\n",
            "Intercept:  [-1062636.76835037]\n",
            "Mean absolute error:  8.06806253753839\n",
            "Residual sum of squares (MSE):  3326854.9254775858\n"
          ]
        }
      ]
    },
    {
      "cell_type": "markdown",
      "source": [
        "CASE8:- USING SQFT_LOT AS A PARAMETER"
      ],
      "metadata": {
        "id": "OKxl7gpSW-nC"
      }
    },
    {
      "cell_type": "code",
      "source": [
        "##CASE8:- predicting price using sqft_lot and checking its accuracy\n",
        "import matplotlib.pyplot as plt\n",
        "from sklearn import linear_model\n",
        "import pandas as pd\n",
        "import numpy as np\n",
        "\n",
        "file_name='https://cf-courses-data.s3.us.cloud-object-storage.appdomain.cloud/IBMDeveloperSkillsNetwork-DA0101EN-SkillsNetwork/labs/FinalModule_Coursera/data/kc_house_data_NaN.csv'\n",
        "df=pd.read_csv(file_name)\n",
        "\n",
        "\n",
        "\n",
        "cdf = df[['id','date','price','bedrooms','bathrooms','sqft_living','sqft_lot','floors','waterfront','view','condition','grade','sqft_above','sqft_basement','yr_built','yr_renovated','zipcode','lat','long','sqft_living15','sqft_lot15']]\n",
        "cdf.head()      #takes all the datasets present in the table  ie 21613 data sets with 22 columns.\n",
        "\n",
        "\n",
        "\n",
        "from sklearn.model_selection import train_test_split\n",
        "X_train,X_test,y_train,y_test = train_test_split(cdf,cdf,test_size=.2,random_state=4);\n",
        "\n",
        "\n",
        "regr1 = linear_model.LinearRegression()\n",
        "train_x = np.asanyarray(X_train[['sqft_lot']])\n",
        "train_y = np.asanyarray(X_train[['price']])\n",
        "regr1.fit(train_x,train_y)\n",
        "\n",
        "\n",
        "plt.scatter(X_train.sqft_lot,X_train.price,color='blue')\n",
        "plt.plot(train_x,regr1.coef_[0][0]*train_x+regr1.intercept_[0],'-r')\n",
        "plt.xlabel('sqft_lot')\n",
        "plt.ylabel('price')\n",
        "plt.show()        ## graph of price vs bedrooms\n",
        "\n",
        "print('Coefficients: ',regr1.coef_)\n",
        "print('Intercept: ',regr1.intercept_)\n",
        "\n",
        "test_x = np.asanyarray(X_test[['sqft_lot']])\n",
        "test_y = np.asanyarray(X_test[['price']])\n",
        "test_y_ = regr1.predict(test_x)    #represents y^\n",
        "mae = np.mean(np.absolute(test_y_ - test_y)) \n",
        "mae_ = mae/21613\n",
        "mse = np.mean((test_y-test_y_)**2)\n",
        "mse_=mse/21613\n",
        "print(\"Mean absolute error: \",mae_)\n",
        "print(\"Residual sum of squares (MSE): \",mse_)"
      ],
      "metadata": {
        "colab": {
          "base_uri": "https://localhost:8080/",
          "height": 360
        },
        "id": "5vtwHvu-WsgS",
        "outputId": "88291e62-7b79-4117-de42-46ac06308237"
      },
      "execution_count": null,
      "outputs": [
        {
          "output_type": "display_data",
          "data": {
            "text/plain": [
              "<Figure size 432x288 with 1 Axes>"
            ],
            "image/png": "[encoded data removed]"
          },
          "metadata": {
            "needs_background": "light"
          }
        },
        {
          "output_type": "stream",
          "name": "stdout",
          "text": [
            "Coefficients:  [[0.7739767]]\n",
            "Intercept:  [528081.1404475]\n",
            "Mean absolute error:  10.625294828936248\n",
            "Residual sum of squares (MSE):  5927072.61627958\n"
          ]
        }
      ]
    },
    {
      "cell_type": "markdown",
      "source": [
        "CASR9:- USING YR_RENOVATED AS A PARAMETER"
      ],
      "metadata": {
        "id": "yschUFfYXU_3"
      }
    },
    {
      "cell_type": "code",
      "source": [
        "##CASE9:- predicting price using yr_renovated and checking its accuracy\n",
        "import matplotlib.pyplot as plt\n",
        "from sklearn import linear_model\n",
        "import pandas as pd\n",
        "import numpy as np\n",
        "\n",
        "file_name='https://cf-courses-data.s3.us.cloud-object-storage.appdomain.cloud/IBMDeveloperSkillsNetwork-DA0101EN-SkillsNetwork/labs/FinalModule_Coursera/data/kc_house_data_NaN.csv'\n",
        "df=pd.read_csv(file_name)\n",
        "\n",
        "\n",
        "\n",
        "cdf = df[['id','date','price','bedrooms','bathrooms','sqft_living','sqft_lot','floors','waterfront','view','condition','grade','sqft_above','sqft_basement','yr_built','yr_renovated','zipcode','lat','long','sqft_living15','sqft_lot15']]\n",
        "cdf.head()      #takes all the datasets present in the table  ie 21613 data sets with 22 columns.\n",
        "\n",
        "\n",
        "\n",
        "from sklearn.model_selection import train_test_split\n",
        "X_train,X_test,y_train,y_test = train_test_split(cdf,cdf,test_size=.2,random_state=4);\n",
        "\n",
        "\n",
        "regr1 = linear_model.LinearRegression()\n",
        "train_x = np.asanyarray(X_train[['yr_renovated']])\n",
        "train_y = np.asanyarray(X_train[['price']])\n",
        "regr1.fit(train_x,train_y)\n",
        "\n",
        "\n",
        "plt.scatter(X_train.yr_renovated,X_train.price,color='blue')\n",
        "plt.plot(train_x,regr1.coef_[0][0]*train_x+regr1.intercept_[0],'-r')\n",
        "plt.xlabel('yr_renovated')\n",
        "plt.ylabel('price')\n",
        "plt.show()        ## graph of price vs bedrooms\n",
        "\n",
        "print('Coefficients: ',regr1.coef_)\n",
        "print('Intercept: ',regr1.intercept_)\n",
        "\n",
        "test_x = np.asanyarray(X_test[['yr_renovated']])\n",
        "test_y = np.asanyarray(X_test[['price']])\n",
        "test_y_ = regr1.predict(test_x)    #represents y^\n",
        "mae = np.mean(np.absolute(test_y_ - test_y)) \n",
        "mae_ = mae/21613\n",
        "mse = np.mean((test_y-test_y_)**2)\n",
        "mse_=mse/21613\n",
        "print(\"Mean absolute error: \",mae_)\n",
        "print(\"Residual sum of squares (MSE): \",mse_)"
      ],
      "metadata": {
        "colab": {
          "base_uri": "https://localhost:8080/",
          "height": 360
        },
        "id": "e7CqrINNXUwT",
        "outputId": "d0005112-1c1f-4c69-8876-733cf5734bf6"
      },
      "execution_count": null,
      "outputs": [
        {
          "output_type": "display_data",
          "data": {
            "text/plain": [
              "<Figure size 432x288 with 1 Axes>"
            ],
            "image/png": "[encoded data removed]"
          },
          "metadata": {
            "needs_background": "light"
          }
        },
        {
          "output_type": "stream",
          "name": "stdout",
          "text": [
            "Coefficients:  [[120.14084136]]\n",
            "Intercept:  [529627.87409569]\n",
            "Mean absolute error:  10.641128469558376\n",
            "Residual sum of squares (MSE):  5917457.492092141\n"
          ]
        }
      ]
    },
    {
      "cell_type": "markdown",
      "source": [
        "CASE10:- USING ZIPCODE AS A PARAMTER"
      ],
      "metadata": {
        "id": "KITBna40XuVC"
      }
    },
    {
      "cell_type": "code",
      "source": [
        "##CASE10:- predicting price using zipcode and checking its accuracy\n",
        "import matplotlib.pyplot as plt\n",
        "from sklearn import linear_model\n",
        "import pandas as pd\n",
        "import numpy as np\n",
        "\n",
        "file_name='https://cf-courses-data.s3.us.cloud-object-storage.appdomain.cloud/IBMDeveloperSkillsNetwork-DA0101EN-SkillsNetwork/labs/FinalModule_Coursera/data/kc_house_data_NaN.csv'\n",
        "df=pd.read_csv(file_name)\n",
        "\n",
        "\n",
        "\n",
        "cdf = df[['id','date','price','bedrooms','bathrooms','sqft_living','sqft_lot','floors','waterfront','view','condition','grade','sqft_above','sqft_basement','yr_built','yr_renovated','zipcode','lat','long','sqft_living15','sqft_lot15']]\n",
        "cdf.head()      #takes all the datasets present in the table  ie 21613 data sets with 22 columns.\n",
        "\n",
        "\n",
        "\n",
        "from sklearn.model_selection import train_test_split\n",
        "X_train,X_test,y_train,y_test = train_test_split(cdf,cdf,test_size=.2,random_state=4);\n",
        "\n",
        "\n",
        "regr1 = linear_model.LinearRegression()\n",
        "train_x = np.asanyarray(X_train[['zipcode']])\n",
        "train_y = np.asanyarray(X_train[['price']])\n",
        "regr1.fit(train_x,train_y)\n",
        "\n",
        "\n",
        "plt.scatter(X_train.zipcode,X_train.price,color='blue')\n",
        "plt.plot(train_x,regr1.coef_[0][0]*train_x+regr1.intercept_[0],'-r')\n",
        "plt.xlabel('zipcode')\n",
        "plt.ylabel('price')\n",
        "plt.show()        ## graph of price vs bedrooms\n",
        "\n",
        "print('Coefficients: ',regr1.coef_)\n",
        "print('Intercept: ',regr1.intercept_)\n",
        "\n",
        "test_x = np.asanyarray(X_test[['zipcode']])\n",
        "test_y = np.asanyarray(X_test[['price']])\n",
        "test_y_ = regr1.predict(test_x)    #represents y^\n",
        "mae = np.mean(np.absolute(test_y_ - test_y)) \n",
        "mae_ = mae/21613\n",
        "mse = np.mean((test_y-test_y_)**2)\n",
        "mse_=mse/21613\n",
        "print(\"Mean absolute error: \",mae_)\n",
        "print(\"Residual sum of squares (MSE): \",mse_)"
      ],
      "metadata": {
        "colab": {
          "base_uri": "https://localhost:8080/",
          "height": 359
        },
        "id": "9RQliQemXvkI",
        "outputId": "e1c6c24f-cd03-476f-b31b-f1eab829da62"
      },
      "execution_count": null,
      "outputs": [
        {
          "output_type": "display_data",
          "data": {
            "text/plain": [
              "<Figure size 432x288 with 1 Axes>"
            ],
            "image/png": "[encoded data removed]"
          },
          "metadata": {
            "needs_background": "light"
          }
        },
        {
          "output_type": "stream",
          "name": "stdout",
          "text": [
            "Coefficients:  [[-351.73348687]]\n",
            "Intercept:  [35037066.09994958]\n",
            "Mean absolute error:  10.68999528987643\n",
            "Residual sum of squares (MSE):  5961813.406572507\n"
          ]
        }
      ]
    },
    {
      "cell_type": "markdown",
      "source": [
        "CASE11:- USING LAT AS A PARAMETER"
      ],
      "metadata": {
        "id": "T7Iwfu39YVEJ"
      }
    },
    {
      "cell_type": "code",
      "source": [
        "##CASE11:- predicting price using lat and checking its accuracy\n",
        "import matplotlib.pyplot as plt\n",
        "from sklearn import linear_model\n",
        "import pandas as pd\n",
        "import numpy as np\n",
        "\n",
        "file_name='https://cf-courses-data.s3.us.cloud-object-storage.appdomain.cloud/IBMDeveloperSkillsNetwork-DA0101EN-SkillsNetwork/labs/FinalModule_Coursera/data/kc_house_data_NaN.csv'\n",
        "df=pd.read_csv(file_name)\n",
        "\n",
        "\n",
        "\n",
        "cdf = df[['id','date','price','bedrooms','bathrooms','sqft_living','sqft_lot','floors','waterfront','view','condition','grade','sqft_above','sqft_basement','yr_built','yr_renovated','zipcode','lat','long','sqft_living15','sqft_lot15']]\n",
        "cdf.head()      #takes all the datasets present in the table  ie 21613 data sets with 22 columns.\n",
        "\n",
        "\n",
        "\n",
        "from sklearn.model_selection import train_test_split\n",
        "X_train,X_test,y_train,y_test = train_test_split(cdf,cdf,test_size=.2,random_state=4);\n",
        "\n",
        "\n",
        "regr1 = linear_model.LinearRegression()\n",
        "train_x = np.asanyarray(X_train[['lat']])\n",
        "train_y = np.asanyarray(X_train[['price']])\n",
        "regr1.fit(train_x,train_y)\n",
        "\n",
        "\n",
        "plt.scatter(X_train.lat,X_train.price,color='blue')\n",
        "plt.plot(train_x,regr1.coef_[0][0]*train_x+regr1.intercept_[0],'-r')\n",
        "plt.xlabel('lat')\n",
        "plt.ylabel('price')\n",
        "plt.show()        ## graph of price vs bedrooms\n",
        "\n",
        "print('Coefficients: ',regr1.coef_)\n",
        "print('Intercept: ',regr1.intercept_)\n",
        "\n",
        "test_x = np.asanyarray(X_test[['lat']])\n",
        "test_y = np.asanyarray(X_test[['price']])\n",
        "test_y_ = regr1.predict(test_x)    #represents y^\n",
        "mae = np.mean(np.absolute(test_y_ - test_y)) \n",
        "mae_ = mae/21613\n",
        "mse = np.mean((test_y-test_y_)**2)\n",
        "mse_=mse/21613\n",
        "print(\"Mean absolute error: \",mae_)\n",
        "print(\"Residual sum of squares (MSE): \",mse_)"
      ],
      "metadata": {
        "colab": {
          "base_uri": "https://localhost:8080/",
          "height": 359
        },
        "id": "Cqiv_FrtYU1w",
        "outputId": "4876325a-272c-49ee-9d21-bd1b167f83d7"
      },
      "execution_count": null,
      "outputs": [
        {
          "output_type": "display_data",
          "data": {
            "text/plain": [
              "<Figure size 432x288 with 1 Axes>"
            ],
            "image/png": "[encoded data removed]"
          },
          "metadata": {
            "needs_background": "light"
          }
        },
        {
          "output_type": "stream",
          "name": "stdout",
          "text": [
            "Coefficients:  [[819022.45514088]]\n",
            "Intercept:  [-38412402.09432663]\n",
            "Mean absolute error:  9.80146425751045\n",
            "Residual sum of squares (MSE):  5435902.220352279\n"
          ]
        }
      ]
    },
    {
      "cell_type": "markdown",
      "source": [
        "CASE12:- USING SQFT_LOT15 AS A PARAMTER"
      ],
      "metadata": {
        "id": "q4Nb-xKAYqzE"
      }
    },
    {
      "cell_type": "code",
      "source": [
        "##CASE12:- predicting price using sqft_lot15 and checking its accuracy\n",
        "import matplotlib.pyplot as plt\n",
        "from sklearn import linear_model\n",
        "import pandas as pd\n",
        "import numpy as np\n",
        "\n",
        "file_name='https://cf-courses-data.s3.us.cloud-object-storage.appdomain.cloud/IBMDeveloperSkillsNetwork-DA0101EN-SkillsNetwork/labs/FinalModule_Coursera/data/kc_house_data_NaN.csv'\n",
        "df=pd.read_csv(file_name)\n",
        "\n",
        "\n",
        "\n",
        "cdf = df[['id','date','price','bedrooms','bathrooms','sqft_living','sqft_lot','floors','waterfront','view','condition','grade','sqft_above','sqft_basement','yr_built','yr_renovated','zipcode','lat','long','sqft_living15','sqft_lot15']]\n",
        "cdf.head()      #takes all the datasets present in the table  ie 21613 data sets with 22 columns.\n",
        "\n",
        "\n",
        "\n",
        "from sklearn.model_selection import train_test_split\n",
        "X_train,X_test,y_train,y_test = train_test_split(cdf,cdf,test_size=.2,random_state=4);\n",
        "\n",
        "\n",
        "regr1 = linear_model.LinearRegression()\n",
        "train_x = np.asanyarray(X_train[['sqft_lot15']])\n",
        "train_y = np.asanyarray(X_train[['price']])\n",
        "regr1.fit(train_x,train_y)\n",
        "\n",
        "\n",
        "plt.scatter(X_train.sqft_lot15,X_train.price,color='blue')\n",
        "plt.plot(train_x,regr1.coef_[0][0]*train_x+regr1.intercept_[0],'-r')\n",
        "plt.xlabel('sqft_lot15')\n",
        "plt.ylabel('price')\n",
        "plt.show()        ## graph of price vs bedrooms\n",
        "\n",
        "print('Coefficients: ',regr1.coef_)\n",
        "print('Intercept: ',regr1.intercept_)\n",
        "\n",
        "test_x = np.asanyarray(X_test[['sqft_lot15']])\n",
        "test_y = np.asanyarray(X_test[['price']])\n",
        "test_y_ = regr1.predict(test_x)    #represents y^\n",
        "mae = np.mean(np.absolute(test_y_ - test_y)) \n",
        "mae_ = mae/21613\n",
        "mse = np.mean((test_y-test_y_)**2)\n",
        "mse_=mse/21613\n",
        "print(\"Mean absolute error: \",mae_)\n",
        "print(\"Residual sum of squares (MSE): \",mse_)"
      ],
      "metadata": {
        "colab": {
          "base_uri": "https://localhost:8080/",
          "height": 360
        },
        "id": "24P15JsJYqmp",
        "outputId": "98b4e275-b66f-45aa-cb04-abb45b4aa32c"
      },
      "execution_count": null,
      "outputs": [
        {
          "output_type": "display_data",
          "data": {
            "text/plain": [
              "<Figure size 432x288 with 1 Axes>"
            ],
            "image/png": "[encoded data removed]"
          },
          "metadata": {
            "needs_background": "light"
          }
        },
        {
          "output_type": "stream",
          "name": "stdout",
          "text": [
            "Coefficients:  [[1.0767275]]\n",
            "Intercept:  [525930.51678849]\n",
            "Mean absolute error:  10.635270694112146\n",
            "Residual sum of squares (MSE):  5941374.935368619\n"
          ]
        }
      ]
    },
    {
      "cell_type": "markdown",
      "source": [
        "CASE13:- USING FLOORS AS A PARAMETER"
      ],
      "metadata": {
        "id": "iAtYLuABZPNt"
      }
    },
    {
      "cell_type": "code",
      "source": [
        "##CASE13:- predicting price using floors and checking its accuracy\n",
        "import matplotlib.pyplot as plt\n",
        "from sklearn import linear_model\n",
        "import pandas as pd\n",
        "import numpy as np\n",
        "\n",
        "file_name='https://cf-courses-data.s3.us.cloud-object-storage.appdomain.cloud/IBMDeveloperSkillsNetwork-DA0101EN-SkillsNetwork/labs/FinalModule_Coursera/data/kc_house_data_NaN.csv'\n",
        "df=pd.read_csv(file_name)\n",
        "\n",
        "\n",
        "\n",
        "cdf = df[['id','date','price','bedrooms','bathrooms','sqft_living','sqft_lot','floors','waterfront','view','condition','grade','sqft_above','sqft_basement','yr_built','yr_renovated','zipcode','lat','long','sqft_living15','sqft_lot15']]\n",
        "cdf.head()      #takes all the datasets present in the table  ie 21613 data sets with 22 columns.\n",
        "\n",
        "\n",
        "\n",
        "from sklearn.model_selection import train_test_split\n",
        "X_train,X_test,y_train,y_test = train_test_split(cdf,cdf,test_size=.2,random_state=4);\n",
        "\n",
        "\n",
        "regr1 = linear_model.LinearRegression()\n",
        "train_x = np.asanyarray(X_train[['floors']])\n",
        "train_y = np.asanyarray(X_train[['price']])\n",
        "regr1.fit(train_x,train_y)\n",
        "\n",
        "\n",
        "plt.scatter(X_train.floors,X_train.price,color='blue')\n",
        "plt.plot(train_x,regr1.coef_[0][0]*train_x+regr1.intercept_[0],'-r')\n",
        "plt.xlabel('floors')\n",
        "plt.ylabel('price')\n",
        "plt.show()        ## graph of price vs bedrooms\n",
        "\n",
        "print('Coefficients: ',regr1.coef_)\n",
        "print('Intercept: ',regr1.intercept_)\n",
        "\n",
        "test_x = np.asanyarray(X_test[['floors']])\n",
        "test_y = np.asanyarray(X_test[['price']])\n",
        "test_y_ = regr1.predict(test_x)    #represents y^\n",
        "mae = np.mean(np.absolute(test_y_ - test_y)) \n",
        "mae_ = mae/21613\n",
        "mse = np.mean((test_y-test_y_)**2)\n",
        "mse_=mse/21613\n",
        "print(\"Mean absolute error: \",mae_)\n",
        "print(\"Residual sum of squares (MSE): \",mse_)"
      ],
      "metadata": {
        "colab": {
          "base_uri": "https://localhost:8080/",
          "height": 359
        },
        "id": "Fbhh6qLJZPFP",
        "outputId": "abbb0307-892f-4d91-c481-86a7a5cfa7f4"
      },
      "execution_count": null,
      "outputs": [
        {
          "output_type": "display_data",
          "data": {
            "text/plain": [
              "<Figure size 432x288 with 1 Axes>"
            ],
            "image/png": "[encoded data removed]"
          },
          "metadata": {
            "needs_background": "light"
          }
        },
        {
          "output_type": "stream",
          "name": "stdout",
          "text": [
            "Coefficients:  [[176903.28625488]]\n",
            "Intercept:  [275922.04073716]\n",
            "Mean absolute error:  10.318775527860838\n",
            "Residual sum of squares (MSE):  5614093.94515966\n"
          ]
        }
      ]
    },
    {
      "cell_type": "markdown",
      "source": [
        "CASE14:- USING CONDITION AS A PARAMTER"
      ],
      "metadata": {
        "id": "XrteanqkZkyA"
      }
    },
    {
      "cell_type": "code",
      "source": [
        "##CASE14:- predicting price using condition  and checking its accuracy\n",
        "import matplotlib.pyplot as plt\n",
        "from sklearn import linear_model\n",
        "import pandas as pd\n",
        "import numpy as np\n",
        "\n",
        "file_name='https://cf-courses-data.s3.us.cloud-object-storage.appdomain.cloud/IBMDeveloperSkillsNetwork-DA0101EN-SkillsNetwork/labs/FinalModule_Coursera/data/kc_house_data_NaN.csv'\n",
        "df=pd.read_csv(file_name)\n",
        "\n",
        "\n",
        "\n",
        "cdf = df[['id','date','price','bedrooms','bathrooms','sqft_living','sqft_lot','floors','waterfront','view','condition','grade','sqft_above','sqft_basement','yr_built','yr_renovated','zipcode','lat','long','sqft_living15','sqft_lot15']]\n",
        "cdf.head()      #takes all the datasets present in the table  ie 21613 data sets with 22 columns.\n",
        "\n",
        "\n",
        "\n",
        "from sklearn.model_selection import train_test_split\n",
        "X_train,X_test,y_train,y_test = train_test_split(cdf,cdf,test_size=.2,random_state=4);\n",
        "\n",
        "\n",
        "regr1 = linear_model.LinearRegression()\n",
        "train_x = np.asanyarray(X_train[['condition']])\n",
        "train_y = np.asanyarray(X_train[['price']])\n",
        "regr1.fit(train_x,train_y)\n",
        "\n",
        "\n",
        "plt.scatter(X_train.condition,X_train.price,color='blue')\n",
        "plt.plot(train_x,regr1.coef_[0][0]*train_x+regr1.intercept_[0],'-r')\n",
        "plt.xlabel('condition')\n",
        "plt.ylabel('price')\n",
        "plt.show()        ## graph of price vs bedrooms\n",
        "\n",
        "print('Coefficients: ',regr1.coef_)\n",
        "print('Intercept: ',regr1.intercept_)\n",
        "\n",
        "test_x = np.asanyarray(X_test[['condition']])\n",
        "test_y = np.asanyarray(X_test[['price']])\n",
        "test_y_ = regr1.predict(test_x)    #represents y^\n",
        "mae = np.mean(np.absolute(test_y_ - test_y)) \n",
        "mae_ = mae/21613\n",
        "mse = np.mean((test_y-test_y_)**2)\n",
        "mse_=mse/21613\n",
        "print(\"Mean absolute error: \",mae_)\n",
        "print(\"Residual sum of squares (MSE): \",mse_)"
      ],
      "metadata": {
        "colab": {
          "base_uri": "https://localhost:8080/",
          "height": 359
        },
        "id": "jT9rUlCiZkqn",
        "outputId": "204acc5b-cfc2-485c-dc68-1427861a5db1"
      },
      "execution_count": null,
      "outputs": [
        {
          "output_type": "display_data",
          "data": {
            "text/plain": [
              "<Figure size 432x288 with 1 Axes>"
            ],
            "image/png": "[encoded data removed]"
          },
          "metadata": {
            "needs_background": "light"
          }
        },
        {
          "output_type": "stream",
          "name": "stdout",
          "text": [
            "Coefficients:  [[17837.15609455]]\n",
            "Intercept:  [478946.15026433]\n",
            "Mean absolute error:  10.687352878017839\n",
            "Residual sum of squares (MSE):  5968981.7782096965\n"
          ]
        }
      ]
    },
    {
      "cell_type": "markdown",
      "source": [
        "CASE15:- USING VIEW AS A PARAMETER"
      ],
      "metadata": {
        "id": "Y_fYeKKNa2E4"
      }
    },
    {
      "cell_type": "code",
      "source": [
        "##CASE15:- predicting price using view and checking its accuracy\n",
        "import matplotlib.pyplot as plt\n",
        "from sklearn import linear_model\n",
        "import pandas as pd\n",
        "import numpy as np\n",
        "\n",
        "file_name='https://cf-courses-data.s3.us.cloud-object-storage.appdomain.cloud/IBMDeveloperSkillsNetwork-DA0101EN-SkillsNetwork/labs/FinalModule_Coursera/data/kc_house_data_NaN.csv'\n",
        "df=pd.read_csv(file_name)\n",
        "\n",
        "\n",
        "\n",
        "cdf = df[['id','date','price','bedrooms','bathrooms','sqft_living','sqft_lot','floors','waterfront','view','condition','grade','sqft_above','sqft_basement','yr_built','yr_renovated','zipcode','lat','long','sqft_living15','sqft_lot15']]\n",
        "cdf.head()      #takes all the datasets present in the table  ie 21613 data sets with 22 columns.\n",
        "\n",
        "\n",
        "\n",
        "from sklearn.model_selection import train_test_split\n",
        "X_train,X_test,y_train,y_test = train_test_split(cdf,cdf,test_size=.2,random_state=4);\n",
        "\n",
        "\n",
        "regr1 = linear_model.LinearRegression()\n",
        "train_x = np.asanyarray(X_train[['view']])\n",
        "train_y = np.asanyarray(X_train[['price']])\n",
        "regr1.fit(train_x,train_y)\n",
        "\n",
        "\n",
        "plt.scatter(X_train.view,X_train.price,color='blue')\n",
        "plt.plot(train_x,regr1.coef_[0][0]*train_x+regr1.intercept_[0],'-r')\n",
        "plt.xlabel('view')\n",
        "plt.ylabel('price')\n",
        "plt.show()        ## graph of price vs bedrooms\n",
        "\n",
        "print('Coefficients: ',regr1.coef_)\n",
        "print('Intercept: ',regr1.intercept_)\n",
        "\n",
        "test_x = np.asanyarray(X_test[['view']])\n",
        "test_y = np.asanyarray(X_test[['price']])\n",
        "test_y_ = regr1.predict(test_x)    #represents y^\n",
        "mae = np.mean(np.absolute(test_y_ - test_y)) \n",
        "mae_ = mae/21613\n",
        "mse = np.mean((test_y-test_y_)**2)\n",
        "mse_=mse/21613\n",
        "print(\"Mean absolute error: \",mae_)\n",
        "print(\"Residual sum of squares (MSE): \",mse_)"
      ],
      "metadata": {
        "colab": {
          "base_uri": "https://localhost:8080/",
          "height": 359
        },
        "id": "e5sxYPgza15o",
        "outputId": "c98cf3cc-73b0-4147-89a3-0ef782f3199e"
      },
      "execution_count": null,
      "outputs": [
        {
          "output_type": "display_data",
          "data": {
            "text/plain": [
              "<Figure size 432x288 with 1 Axes>"
            ],
            "image/png": "[encoded data removed]"
          },
          "metadata": {
            "needs_background": "light"
          }
        },
        {
          "output_type": "stream",
          "name": "stdout",
          "text": [
            "Coefficients:  [[190590.73496097]]\n",
            "Intercept:  [495162.92731914]\n",
            "Mean absolute error:  10.000116345300357\n",
            "Residual sum of squares (MSE):  5010836.042746316\n"
          ]
        }
      ]
    },
    {
      "cell_type": "markdown",
      "source": [
        "CASE16:- USING WATERFRONT AS A PARAMETER"
      ],
      "metadata": {
        "id": "gItQgRDpbOv_"
      }
    },
    {
      "cell_type": "code",
      "source": [
        "##CASE16:- predicting price using waterfront and checking its accuracy\n",
        "import matplotlib.pyplot as plt\n",
        "from sklearn import linear_model\n",
        "import pandas as pd\n",
        "import numpy as np\n",
        "\n",
        "file_name='https://cf-courses-data.s3.us.cloud-object-storage.appdomain.cloud/IBMDeveloperSkillsNetwork-DA0101EN-SkillsNetwork/labs/FinalModule_Coursera/data/kc_house_data_NaN.csv'\n",
        "df=pd.read_csv(file_name)\n",
        "\n",
        "\n",
        "\n",
        "cdf = df[['id','date','price','bedrooms','bathrooms','sqft_living','sqft_lot','floors','waterfront','view','condition','grade','sqft_above','sqft_basement','yr_built','yr_renovated','zipcode','lat','long','sqft_living15','sqft_lot15']]\n",
        "cdf.head()      #takes all the datasets present in the table  ie 21613 data sets with 22 columns.\n",
        "\n",
        "\n",
        "\n",
        "from sklearn.model_selection import train_test_split\n",
        "X_train,X_test,y_train,y_test = train_test_split(cdf,cdf,test_size=.2,random_state=4);\n",
        "\n",
        "\n",
        "regr1 = linear_model.LinearRegression()\n",
        "train_x = np.asanyarray(X_train[['waterfront']])\n",
        "train_y = np.asanyarray(X_train[['price']])\n",
        "regr1.fit(train_x,train_y)\n",
        "\n",
        "\n",
        "plt.scatter(X_train.waterfront,X_train.price,color='blue')\n",
        "plt.plot(train_x,regr1.coef_[0][0]*train_x+regr1.intercept_[0],'-r')\n",
        "plt.xlabel('waterfront')\n",
        "plt.ylabel('price')\n",
        "plt.show()        ## graph of price vs bedrooms\n",
        "\n",
        "print('Coefficients: ',regr1.coef_)\n",
        "print('Intercept: ',regr1.intercept_)\n",
        "\n",
        "test_x = np.asanyarray(X_test[['waterfront']])\n",
        "test_y = np.asanyarray(X_test[['price']])\n",
        "test_y_ = regr1.predict(test_x)    #represents y^\n",
        "mae = np.mean(np.absolute(test_y_ - test_y)) \n",
        "mae_ = mae/21613\n",
        "mse = np.mean((test_y-test_y_)**2)\n",
        "mse_=mse/21613\n",
        "print(\"Mean absolute error: \",mae_)\n",
        "print(\"Residual sum of squares (MSE): \",mse_)"
      ],
      "metadata": {
        "colab": {
          "base_uri": "https://localhost:8080/",
          "height": 359
        },
        "id": "HW4qmw7GbOKP",
        "outputId": "f19b9f4a-54df-4e63-c583-961f415c8650"
      },
      "execution_count": 13,
      "outputs": [
        {
          "output_type": "display_data",
          "data": {
            "text/plain": [
              "<Figure size 432x288 with 1 Axes>"
            ],
            "image/png": "[encoded data removed]"
          },
          "metadata": {
            "needs_background": "light"
          }
        },
        {
          "output_type": "stream",
          "name": "stdout",
          "text": [
            "Coefficients:  [[1122943.07487046]]\n",
            "Intercept:  [531254.5739845]\n",
            "Mean absolute error:  10.485097899079898\n",
            "Residual sum of squares (MSE):  5527111.515397021\n"
          ]
        }
      ]
    },
    {
      "cell_type": "markdown",
      "source": [
        "CASE17:- USING BEDROOMS AS A PARAMETER"
      ],
      "metadata": {
        "id": "otjBSZX9b4tH"
      }
    },
    {
      "cell_type": "code",
      "source": [
        "##CASE17:- predicting price using bedrooms and checking its accuracy\n",
        "import matplotlib.pyplot as plt\n",
        "from sklearn import linear_model\n",
        "import pandas as pd\n",
        "import numpy as np\n",
        "\n",
        "file_name='https://cf-courses-data.s3.us.cloud-object-storage.appdomain.cloud/IBMDeveloperSkillsNetwork-DA0101EN-SkillsNetwork/labs/FinalModule_Coursera/data/kc_house_data_NaN.csv'\n",
        "df=pd.read_csv(file_name)\n",
        "\n",
        "df=df.replace('?',np.nan)\n",
        "avg1=df['bedrooms'].astype('float').mean(axis=0)\n",
        "df=df.replace(np.nan,avg1)\n",
        "\n",
        "\n",
        "cdf = df[['id','date','price','bedrooms','bathrooms','sqft_living','sqft_lot','floors','waterfront','view','condition','grade','sqft_above','sqft_basement','yr_built','yr_renovated','zipcode','lat','long','sqft_living15','sqft_lot15']]\n",
        "cdf.head()      #takes all the datasets present in the table  ie 21613 data sets with 22 columns.\n",
        "\n",
        "\n",
        "\n",
        "from sklearn.model_selection import train_test_split\n",
        "X_train,X_test,y_train,y_test = train_test_split(cdf,cdf,test_size=.2,random_state=4);\n",
        "\n",
        "\n",
        "regr1 = linear_model.LinearRegression()\n",
        "train_x = np.asanyarray(X_train[['bedrooms']])\n",
        "train_y = np.asanyarray(X_train[['price']])\n",
        "regr1.fit(train_x,train_y)\n",
        "\n",
        "\n",
        "plt.scatter(X_train.bedrooms,X_train.price,color='blue')\n",
        "plt.plot(train_x,regr1.coef_[0][0]*train_x+regr1.intercept_[0],'-r')\n",
        "plt.xlabel('bedrooms')\n",
        "plt.ylabel('price')\n",
        "plt.show()        ## graph of price vs bedrooms\n",
        "\n",
        "print('Coefficients: ',regr1.coef_)\n",
        "print('Intercept: ',regr1.intercept_)\n",
        "\n",
        "test_x = np.asanyarray(X_test[['bedrooms']])\n",
        "test_y = np.asanyarray(X_test[['price']])\n",
        "test_y_ = regr1.predict(test_x)    #represents y^\n",
        "mae = np.mean(np.absolute(test_y_ - test_y)) \n",
        "mae_ = mae/21613\n",
        "mse = np.mean((test_y-test_y_)**2)\n",
        "mse_=mse/21613\n",
        "print(\"Mean absolute error: \",mae_)\n",
        "print(\"Residual sum of squares (MSE): \",mse_)"
      ],
      "metadata": {
        "colab": {
          "base_uri": "https://localhost:8080/",
          "height": 359
        },
        "id": "l8lw66DYb4lI",
        "outputId": "0a2daeaf-556f-4bef-accb-320fffed2e8a"
      },
      "execution_count": 14,
      "outputs": [
        {
          "output_type": "display_data",
          "data": {
            "text/plain": [
              "<Figure size 432x288 with 1 Axes>"
            ],
            "image/png": "[encoded data removed]"
          },
          "metadata": {
            "needs_background": "light"
          }
        },
        {
          "output_type": "stream",
          "name": "stdout",
          "text": [
            "Coefficients:  [[122662.65085441]]\n",
            "Intercept:  [126142.67192254]\n",
            "Mean absolute error:  10.152629943001443\n",
            "Residual sum of squares (MSE):  5430480.425014057\n"
          ]
        }
      ]
    },
    {
      "cell_type": "markdown",
      "source": [
        "CASE18:- USING BATHROOMS AS A PARAMETER"
      ],
      "metadata": {
        "id": "RzcycVDfea_Q"
      }
    },
    {
      "cell_type": "code",
      "source": [
        "##CASE18:- predicting price using bathrooms and checking its accuracy\n",
        "import matplotlib.pyplot as plt\n",
        "from sklearn import linear_model\n",
        "import pandas as pd\n",
        "import numpy as np\n",
        "\n",
        "file_name='https://cf-courses-data.s3.us.cloud-object-storage.appdomain.cloud/IBMDeveloperSkillsNetwork-DA0101EN-SkillsNetwork/labs/FinalModule_Coursera/data/kc_house_data_NaN.csv'\n",
        "df=pd.read_csv(file_name)\n",
        "\n",
        "df=df.replace('?',np.nan)\n",
        "avg1=df['bathrooms'].astype('float').mean(axis=0)\n",
        "df=df.replace(np.nan,avg1)\n",
        "\n",
        "\n",
        "\n",
        "cdf = df[['id','date','price','bedrooms','bathrooms','sqft_living','sqft_lot','floors','waterfront','view','condition','grade','sqft_above','sqft_basement','yr_built','yr_renovated','zipcode','lat','long','sqft_living15','sqft_lot15']]\n",
        "cdf.head()      #takes all the datasets present in the table  ie 21613 data sets with 22 columns.\n",
        "\n",
        "\n",
        "\n",
        "from sklearn.model_selection import train_test_split\n",
        "X_train,X_test,y_train,y_test = train_test_split(cdf,cdf,test_size=.2,random_state=4);\n",
        "\n",
        "\n",
        "regr1 = linear_model.LinearRegression()\n",
        "train_x = np.asanyarray(X_train[['bathrooms']])\n",
        "train_y = np.asanyarray(X_train[['price']])\n",
        "regr1.fit(train_x,train_y)\n",
        "\n",
        "\n",
        "plt.scatter(X_train.bathrooms,X_train.price,color='blue')\n",
        "plt.plot(train_x,regr1.coef_[0][0]*train_x+regr1.intercept_[0],'-r')\n",
        "plt.xlabel('bathrooms')\n",
        "plt.ylabel('price')\n",
        "plt.show()        ## graph of price vs bedrooms\n",
        "\n",
        "print('Coefficients: ',regr1.coef_)\n",
        "print('Intercept: ',regr1.intercept_)\n",
        "\n",
        "test_x = np.asanyarray(X_test[['bathrooms']])\n",
        "test_y = np.asanyarray(X_test[['price']])\n",
        "test_y_ = regr1.predict(test_x)    #represents y^\n",
        "mae = np.mean(np.absolute(test_y_ - test_y)) \n",
        "mae_ = mae/21613\n",
        "mse = np.mean((test_y-test_y_)**2)\n",
        "mse_=mse/21613\n",
        "print(\"Mean absolute error: \",mae_)\n",
        "print(\"Residual sum of squares (MSE): \",mse_)"
      ],
      "metadata": {
        "id": "JL5qW_xUea1h",
        "colab": {
          "base_uri": "https://localhost:8080/",
          "height": 359
        },
        "outputId": "24c11bd1-d6ea-49eb-c54b-d3426b02b6d5"
      },
      "execution_count": 16,
      "outputs": [
        {
          "output_type": "display_data",
          "data": {
            "text/plain": [
              "<Figure size 432x288 with 1 Axes>"
            ],
            "image/png": "[encoded data removed]"
          },
          "metadata": {
            "needs_background": "light"
          }
        },
        {
          "output_type": "stream",
          "name": "stdout",
          "text": [
            "Coefficients:  [[254715.04753773]]\n",
            "Intercept:  [1204.99319568]\n",
            "Mean absolute error:  9.478876918599571\n",
            "Residual sum of squares (MSE):  4526112.3760004155\n"
          ]
        }
      ]
    },
    {
      "cell_type": "markdown",
      "source": [
        "From all these prediction curves we see that if we want a most accurate prediction we need to use sqft_living as our parameter to predict the price of house."
      ],
      "metadata": {
        "id": "2EO8orNmrHq9"
      }
    }
  ],
  "metadata": {
    "interpreter": {
      "hash": "52634da84371cba311ea128a5ea7cdc41ff074b781779e754b270ff9f8153cee"
    },
    "kernelspec": {
      "display_name": "Python 3.10.4 64-bit",
      "language": "python",
      "name": "python3"
    },
    "language_info": {
      "codemirror_mode": {
        "name": "ipython",
        "version": 3
      },
      "file_extension": ".py",
      "mimetype": "text/x-python",
      "name": "python",
      "nbconvert_exporter": "python",
      "pygments_lexer": "ipython3",
      "version": "3.10.4"
    },
    "orig_nbformat": 4,
    "colab": {
      "name": "PROJECT1.ipynb",
      "provenance": [],
      "collapsed_sections": []
    }
  },
  "nbformat": 4,
  "nbformat_minor": 0
}